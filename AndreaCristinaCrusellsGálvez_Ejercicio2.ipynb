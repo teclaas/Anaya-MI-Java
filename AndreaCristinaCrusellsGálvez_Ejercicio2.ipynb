{
  "nbformat": 4,
  "nbformat_minor": 0,
  "metadata": {
    "colab": {
      "provenance": [],
      "include_colab_link": true
    },
    "kernelspec": {
      "name": "python3",
      "display_name": "Python 3"
    },
    "language_info": {
      "name": "python"
    }
  },
  "cells": [
    {
      "cell_type": "markdown",
      "metadata": {
        "id": "view-in-github",
        "colab_type": "text"
      },
      "source": [
        "<a href=\"https://colab.research.google.com/github/teclaas/Anaya-MI-Java/blob/main/AndreaCristinaCrusellsG%C3%A1lvez_Ejercicio2.ipynb\" target=\"_parent\"><img src=\"https://colab.research.google.com/assets/colab-badge.svg\" alt=\"Open In Colab\"/></a>"
      ]
    },
    {
      "cell_type": "markdown",
      "source": [
        "EJERCICIO2 – PIEDRA PAPEL TIJERA EN PYTHON\n",
        "En este ejercicio vamos a recrear el juego de piedra-papel-tijera.\n",
        "El diseño del programa podría ser algo así:\n",
        "\n",
        "1. Preguntar el nombre al jugador\n",
        "2. Explicar las reglas del juego\n",
        "3. Hacer una tirada aleatoria para el jugador 1\n",
        "4. Hacer una tirada aleatoria para el jugador 2\n",
        "5. Resolver quien ha ganado y sumarle el punto\n",
        "6. Repetir del 3 al 5 diez veces\n",
        "7. Evaluar el ganador final\n",
        "8. Mostrar el resultado\n",
        "\n",
        "Se jugará obligatoriamente con 2 jugadores\n",
        "Se realizarán 10 jugadas\n",
        "Ganará el que haya acertado mas de 5 veces, y en caso de empate, se jugará una jugada\n",
        "extra para el desempate.\n"
      ],
      "metadata": {
        "id": "pJYGaaBMOqeE"
      }
    },
    {
      "cell_type": "code",
      "execution_count": null,
      "metadata": {
        "id": "Ig5A9QF5OihG"
      },
      "outputs": [],
      "source": [
        "empezamos=empezamos"
      ]
    },
    {
      "cell_type": "markdown",
      "source": [
        "Paso 1: Preguntar el nombre al jugador\n",
        "Primero, pediremos el nombre del jugador simulandolos."
      ],
      "metadata": {
        "id": "aUtqqHhVOvcI"
      }
    },
    {
      "cell_type": "code",
      "source": [
        "jugador1 = input(\"Introduce el nombre del Jugador 1: \")\n",
        "jugador2 = input(\"Introduce el nombre del Jugador 2: \")"
      ],
      "metadata": {
        "id": "hypydhk9PXjA"
      },
      "execution_count": null,
      "outputs": []
    },
    {
      "cell_type": "markdown",
      "source": [
        "Paso 2 Explicar las reglas del juego\n",
        "Mostraremos las reglas del juego al usuario."
      ],
      "metadata": {
        "id": "fWpFNzZyPHmi"
      }
    },
    {
      "cell_type": "code",
      "source": [
        "print(\"\\nReglas del juego:\")\n",
        "print(\"Piedra gana a Tijera\")\n",
        "print(\"Tijera gana a Papel\")\n",
        "print(\"Papel gana a Piedra\")\n",
        "print(\"Se jugarán 10 rondas y el que gane más de 5 veces será el ganador.\")\n",
        "print(\"En caso de empate, se jugará una ronda adicional para desempatar.\\n\")"
      ],
      "metadata": {
        "id": "jf5UJOPePfFy"
      },
      "execution_count": null,
      "outputs": []
    },
    {
      "cell_type": "markdown",
      "source": [
        "paso 3: Hacer una tirada aleatoria para cada jugador\n",
        "Usaremos la biblioteca random para generar jugadas aleatorias para ambos jugadores. Definimos una función tirada_aleatoria.\n",
        "\n"
      ],
      "metadata": {
        "id": "JX2_5ml-Op8S"
      }
    },
    {
      "cell_type": "code",
      "source": [
        "import random\n",
        "\n",
        "def tirada_aleatoria():\n",
        "    opciones = [\"Piedra\", \"Papel\", \"Tijera\"]\n",
        "    return random.choice(opciones)\n"
      ],
      "metadata": {
        "id": "6R_aFNRqP-wB"
      },
      "execution_count": null,
      "outputs": []
    },
    {
      "cell_type": "markdown",
      "source": [
        "Paso 4: Resolver quién ha ganado y sumar el punto\n",
        "Definimos una función determinar_ganador que compara las jugadas y determina el ganador de cada ronda."
      ],
      "metadata": {
        "id": "YYWV_evWQDEf"
      }
    },
    {
      "cell_type": "code",
      "source": [
        "def determinar_ganador(jugada1, jugada2):\n",
        "    if jugada1 == jugada2:\n",
        "        return \"Empate\"\n",
        "    elif (jugada1 == \"Piedra\" and jugada2 == \"Tijera\") or \\\n",
        "         (jugada1 == \"Tijera\" and jugada2 == \"Papel\") or \\\n",
        "         (jugada1 == \"Papel\" and jugada2 == \"Piedra\"):\n",
        "        return \"Jugador 1\"\n",
        "    else:\n",
        "        return \"Jugador 2\"\n"
      ],
      "metadata": {
        "id": "lDQnTlFaQItg"
      },
      "execution_count": null,
      "outputs": []
    },
    {
      "cell_type": "markdown",
      "source": [
        "Repetir del 3 al 5 diez veces\n",
        "Creamos un bucle que repite las jugadas 10 veces y lleva la cuenta de los puntos.\n"
      ],
      "metadata": {
        "id": "xuH-PlwLQWnr"
      }
    },
    {
      "cell_type": "code",
      "source": [
        "puntos_jugador1 = 0\n",
        "puntos_jugador2 = 0\n",
        "\n",
        "for ronda in range(10):\n",
        "    print(f\"Ronda {ronda + 1}:\")\n",
        "    jugada1 = tirada_aleatoria()\n",
        "    jugada2 = tirada_aleatoria()\n",
        "    print(f\"{jugador1} juega {jugada1}\")\n",
        "    print(f\"{jugador2} juega {jugada2}\")\n",
        "\n",
        "    resultado = determinar_ganador(jugada1, jugada2)\n",
        "    if resultado == \"Jugador 1\":\n",
        "        puntos_jugador1 += 1\n",
        "        print(f\"{jugador1} gana esta ronda.\\n\")\n",
        "    elif resultado == \"Jugador 2\":\n",
        "        puntos_jugador2 += 1\n",
        "        print(f\"{jugador2} gana esta ronda.\\n\")\n",
        "    else:\n",
        "        print(\"Esta ronda es un empate.\\n\")\n"
      ],
      "metadata": {
        "id": "xnu5kOkWQz9C"
      },
      "execution_count": null,
      "outputs": []
    },
    {
      "cell_type": "markdown",
      "source": [
        "Paso 6: Evaluar el ganador final\n",
        "Determinamos el ganador final y manejamos el caso de empate."
      ],
      "metadata": {
        "id": "QVYhtzP9RcDV"
      }
    },
    {
      "cell_type": "code",
      "source": [
        "if puntos_jugador1 > puntos_jugador2:\n",
        "    ganador = jugador1\n",
        "elif puntos_jugador2 > puntos_jugador1:\n",
        "    ganador = jugador2\n",
        "else:\n",
        "    print(\"Empate tras 10 rondas, se jugará una ronda adicional para desempatar.\")\n",
        "    while puntos_jugador1 == puntos_jugador2:\n",
        "        jugada1 = tirada_aleatoria()\n",
        "        jugada2 = tirada_aleatoria()\n",
        "        resultado = determinar_ganador(jugada1, jugada2)\n",
        "        if resultado == \"Jugador 1\":\n",
        "            puntos_jugador1 += 1\n",
        "            ganador = jugador1\n",
        "        elif resultado == \"Jugador 2\":\n",
        "            puntos_jugador2 += 1\n",
        "            ganador = jugador2\n"
      ],
      "metadata": {
        "id": "Ls7q9Et2Rdah"
      },
      "execution_count": null,
      "outputs": []
    },
    {
      "cell_type": "markdown",
      "source": [
        "Paso 7: Mostrar el resultado\n",
        "Finalmente, mostramos el resultado del juego.\n"
      ],
      "metadata": {
        "id": "NxOle0AKRgXL"
      }
    },
    {
      "cell_type": "code",
      "source": [
        "print(f\"El ganador final es {ganador} con {max(puntos_jugador1, puntos_jugador2)} puntos.\")"
      ],
      "metadata": {
        "id": "oQMqxV47RrMG"
      },
      "execution_count": null,
      "outputs": []
    }
  ]
}