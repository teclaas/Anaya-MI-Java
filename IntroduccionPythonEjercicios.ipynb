{
  "cells": [
    {
      "cell_type": "markdown",
      "metadata": {
        "id": "view-in-github",
        "colab_type": "text"
      },
      "source": [
        "<a href=\"https://colab.research.google.com/github/teclaas/Anaya-MI-Java/blob/main/IntroduccionPythonEjercicios.ipynb\" target=\"_parent\"><img src=\"https://colab.research.google.com/assets/colab-badge.svg\" alt=\"Open In Colab\"/></a>"
      ]
    },
    {
      "cell_type": "markdown",
      "metadata": {
        "id": "ab-UWA86wyHW"
      },
      "source": [
        "# EJERCICIOS INTRODUCCION A PYTHON\n"
      ]
    },
    {
      "cell_type": "markdown",
      "metadata": {
        "id": "CUgQniSjwyHX"
      },
      "source": [
        "\n",
        "\n",
        "Instrucciones:\n",
        "\n",
        "* Crea una copia de este notebook antes de escribir nada. De esa forma respetarás el original para volver a hacerlo\n",
        "* Cada ejercicio tiene unas instrucciones de lo que debes hacer en él\n",
        "* Bajo las instrucciones estará una celda vacía, aquí es donde tú debes escribir la solución\n",
        "* Y bajo esta última celda verás que hay otras dos celdas. La primera está vacía y no la debes tocar. Es para que tengas siempre a mano la solución al ejercicio, ya que esta no va a cambiar"
      ]
    },
    {
      "cell_type": "markdown",
      "metadata": {
        "id": "G_7_m7jGwyHY"
      },
      "source": [
        "## Ejercicio:\n",
        "\n",
        "Calcula ocho menos 5"
      ]
    },
    {
      "cell_type": "code",
      "execution_count": null,
      "metadata": {
        "id": "feM-HBtQwyHY",
        "colab": {
          "base_uri": "https://localhost:8080/"
        },
        "outputId": "5c9ed6c7-a619-406a-d53a-9b3806f5005c"
      },
      "outputs": [
        {
          "output_type": "execute_result",
          "data": {
            "text/plain": [
              "3"
            ]
          },
          "metadata": {},
          "execution_count": 1
        }
      ],
      "source": [
        "8-5"
      ]
    },
    {
      "cell_type": "code",
      "execution_count": null,
      "metadata": {
        "id": "EUxCzI31wyHZ",
        "colab": {
          "base_uri": "https://localhost:8080/"
        },
        "outputId": "b82fabd9-74ee-4512-c3e2-0e678159d1c2"
      },
      "outputs": [
        {
          "output_type": "execute_result",
          "data": {
            "text/plain": [
              "3"
            ]
          },
          "metadata": {},
          "execution_count": 4
        }
      ],
      "source": [
        "#no tocar, es para que veas la solucion"
      ]
    },
    {
      "cell_type": "markdown",
      "metadata": {
        "id": "i7kVacdZwyHZ"
      },
      "source": [
        "## Ejercicio:\n",
        "\n",
        "Calcula 4 al cuadrado"
      ]
    },
    {
      "cell_type": "code",
      "execution_count": null,
      "metadata": {
        "id": "Ij5bGsUqwyHZ",
        "colab": {
          "base_uri": "https://localhost:8080/"
        },
        "outputId": "c3ad7fa2-5296-4272-f7ea-ec52bf310178"
      },
      "outputs": [
        {
          "output_type": "execute_result",
          "data": {
            "text/plain": [
              "16"
            ]
          },
          "metadata": {},
          "execution_count": 2
        }
      ],
      "source": [
        "4**2"
      ]
    },
    {
      "cell_type": "code",
      "execution_count": null,
      "metadata": {
        "id": "xga3HjD3wyHZ",
        "outputId": "eb5d6b63-d2c9-4be1-984d-ef48c92f388a"
      },
      "outputs": [
        {
          "data": {
            "text/plain": [
              "16"
            ]
          },
          "execution_count": 103,
          "metadata": {},
          "output_type": "execute_result"
        }
      ],
      "source": [
        "#No tocar, es para que veas la solución"
      ]
    },
    {
      "cell_type": "markdown",
      "source": [],
      "metadata": {
        "id": "gCDOrjW63bRm"
      }
    },
    {
      "cell_type": "markdown",
      "metadata": {
        "id": "g0PYRt5JwyHa"
      },
      "source": [
        "## Ejercicio:\n",
        "\n",
        "Comprueba si 8 es diferente de 9"
      ]
    },
    {
      "cell_type": "code",
      "execution_count": null,
      "metadata": {
        "id": "AoK3ktTOwyHa"
      },
      "outputs": [],
      "source": []
    },
    {
      "cell_type": "code",
      "execution_count": null,
      "metadata": {
        "id": "N1h-0Xv_wyHa",
        "outputId": "c79daa61-77a5-4372-b5d4-80dc34c6983c"
      },
      "outputs": [
        {
          "data": {
            "text/plain": [
              "True"
            ]
          },
          "execution_count": 104,
          "metadata": {},
          "output_type": "execute_result"
        }
      ],
      "source": [
        "#No tocar, es para que veas la solución"
      ]
    },
    {
      "cell_type": "markdown",
      "metadata": {
        "id": "E2eMY31HwyHa"
      },
      "source": [
        "## Ejercicio:\n",
        "\n",
        "En una sola línea asigna 'Francisco' a la variable nombre y 'García' a la variable apellido, y en otras 2 líneas imprime cada uno"
      ]
    },
    {
      "cell_type": "code",
      "execution_count": null,
      "metadata": {
        "id": "1w59Tb1ywyHa"
      },
      "outputs": [],
      "source": []
    },
    {
      "cell_type": "code",
      "execution_count": null,
      "metadata": {
        "id": "QzcKlw5xwyHa",
        "outputId": "5e2a24d3-3dff-4116-bf32-bdf0b0540153"
      },
      "outputs": [
        {
          "name": "stdout",
          "output_type": "stream",
          "text": [
            "Francisco\n",
            "García\n"
          ]
        }
      ],
      "source": [
        "#No tocar, es para que veas la solución"
      ]
    },
    {
      "cell_type": "markdown",
      "metadata": {
        "id": "v_L6JDU2wyHb"
      },
      "source": [
        "## Ejercicio:\n",
        "\n",
        "Usando las variables anteriores imprime de forma dinámica (usando format) la frase 'Me llamo Francisco y me apellido García'"
      ]
    },
    {
      "cell_type": "code",
      "execution_count": null,
      "metadata": {
        "id": "19IP_VIIwyHb"
      },
      "outputs": [],
      "source": []
    },
    {
      "cell_type": "code",
      "execution_count": null,
      "metadata": {
        "id": "sz7mcn0MwyHb",
        "outputId": "17599be8-cc2a-4e2a-9d99-a8dd3776f9c4"
      },
      "outputs": [
        {
          "name": "stdout",
          "output_type": "stream",
          "text": [
            "Me llamo Francisco y me apellido García\n"
          ]
        }
      ],
      "source": [
        "#No tocar, es para que veas la solución"
      ]
    },
    {
      "cell_type": "markdown",
      "metadata": {
        "heading_collapsed": true,
        "id": "iBbze1KAwyHb"
      },
      "source": [
        "## Ejercicio:\n",
        "\n",
        "Crea una variable frase que contenga 'Me llamo Francisco y me apellido García'. Y después pásalo todo a mayúsculas"
      ]
    },
    {
      "cell_type": "code",
      "execution_count": null,
      "metadata": {
        "hidden": true,
        "id": "SQJD8ldZwyHb"
      },
      "outputs": [],
      "source": []
    },
    {
      "cell_type": "code",
      "execution_count": null,
      "metadata": {
        "hidden": true,
        "id": "zCD4v8MrwyHb",
        "outputId": "6885b7ca-0254-4538-e1b9-4c331a135e4b"
      },
      "outputs": [
        {
          "data": {
            "text/plain": [
              "'ME LLAMO FRANCISCO Y ME APELLIDO GARCÍA'"
            ]
          },
          "execution_count": 107,
          "metadata": {},
          "output_type": "execute_result"
        }
      ],
      "source": [
        "#No tocar, es para que veas la solución"
      ]
    },
    {
      "cell_type": "markdown",
      "metadata": {
        "id": "5Fr5VN9FwyHb"
      },
      "source": [
        "## Ejercicio:\n",
        "\n",
        "Crea una lista (sin picarla a mano) que se llame lista_palabras y que contenga todas las palabras de la frase anterior. Después sácala por consola."
      ]
    },
    {
      "cell_type": "code",
      "execution_count": null,
      "metadata": {
        "id": "x8F52M8KwyHc"
      },
      "outputs": [],
      "source": []
    },
    {
      "cell_type": "code",
      "execution_count": null,
      "metadata": {
        "id": "7q4LeBhMwyHc",
        "outputId": "b28bb97a-cfeb-4e30-d89a-f22d7e77ac95"
      },
      "outputs": [
        {
          "data": {
            "text/plain": [
              "['Me', 'llamo', 'Francisco', 'y', 'me', 'apellido', 'García']"
            ]
          },
          "execution_count": 108,
          "metadata": {},
          "output_type": "execute_result"
        }
      ],
      "source": [
        "#No tocar, es para que veas la solución"
      ]
    },
    {
      "cell_type": "markdown",
      "metadata": {
        "id": "oxB6CCgBwyHc"
      },
      "source": [
        "## Ejercicio:\n",
        "\n",
        "Cuenta cuantas palabras hay en lista_palabras"
      ]
    },
    {
      "cell_type": "code",
      "execution_count": null,
      "metadata": {
        "id": "Pl_whON2wyHc"
      },
      "outputs": [],
      "source": []
    },
    {
      "cell_type": "code",
      "execution_count": null,
      "metadata": {
        "id": "Cb9LSo0qwyHc",
        "outputId": "7574907a-937e-4a5e-ebeb-214ec3618daf"
      },
      "outputs": [
        {
          "data": {
            "text/plain": [
              "7"
            ]
          },
          "execution_count": 109,
          "metadata": {},
          "output_type": "execute_result"
        }
      ],
      "source": [
        "#No tocar, es para que veas la solución"
      ]
    },
    {
      "cell_type": "markdown",
      "metadata": {
        "id": "dHr8i9czwyHc"
      },
      "source": [
        "## Ejercicio:\n",
        "\n",
        "Convierte 13.24 a entero"
      ]
    },
    {
      "cell_type": "code",
      "execution_count": null,
      "metadata": {
        "id": "p7iEkJm8wyHc"
      },
      "outputs": [],
      "source": []
    },
    {
      "cell_type": "code",
      "execution_count": null,
      "metadata": {
        "id": "dzc2RNZ6wyHc",
        "outputId": "d3da498a-ea2e-45e3-e477-544c273f305d"
      },
      "outputs": [
        {
          "data": {
            "text/plain": [
              "13"
            ]
          },
          "execution_count": 110,
          "metadata": {},
          "output_type": "execute_result"
        }
      ],
      "source": [
        "#No tocar, es para que veas la solución"
      ]
    },
    {
      "cell_type": "markdown",
      "metadata": {
        "id": "Pne3smouwyHd"
      },
      "source": [
        "## Ejercicio:\n",
        "\n",
        "Convierte 13 a real"
      ]
    },
    {
      "cell_type": "code",
      "execution_count": null,
      "metadata": {
        "scrolled": true,
        "id": "dlATU5s_wyHd"
      },
      "outputs": [],
      "source": []
    },
    {
      "cell_type": "code",
      "execution_count": null,
      "metadata": {
        "scrolled": true,
        "id": "5yCPp9sIwyHd",
        "outputId": "b702c965-ca7b-481b-b32a-8b0cd265b255"
      },
      "outputs": [
        {
          "data": {
            "text/plain": [
              "13.0"
            ]
          },
          "execution_count": 111,
          "metadata": {},
          "output_type": "execute_result"
        }
      ],
      "source": [
        "#No tocar, es para que veas la solución"
      ]
    },
    {
      "cell_type": "markdown",
      "metadata": {
        "id": "PUreA-sdwyHd"
      },
      "source": [
        "## Ejercicio:\n",
        "\n",
        "Convierte 13 a texto"
      ]
    },
    {
      "cell_type": "code",
      "execution_count": null,
      "metadata": {
        "scrolled": true,
        "id": "25k8nMTRwyHd"
      },
      "outputs": [],
      "source": []
    },
    {
      "cell_type": "code",
      "execution_count": null,
      "metadata": {
        "scrolled": true,
        "id": "_IPMhx6XwyHd",
        "outputId": "9262628b-bdac-4824-8049-3c09b7637383"
      },
      "outputs": [
        {
          "data": {
            "text/plain": [
              "'13'"
            ]
          },
          "execution_count": 112,
          "metadata": {},
          "output_type": "execute_result"
        }
      ],
      "source": [
        "#No tocar, es para que veas la solución"
      ]
    },
    {
      "cell_type": "markdown",
      "metadata": {
        "id": "XNrlw_7pwyHd"
      },
      "source": [
        "## Ejercicio:\n",
        "\n",
        "Crea una lista de los números impares entre 0 y 30"
      ]
    },
    {
      "cell_type": "code",
      "execution_count": null,
      "metadata": {
        "id": "LJ7hA40YwyHd"
      },
      "outputs": [],
      "source": []
    },
    {
      "cell_type": "code",
      "execution_count": null,
      "metadata": {
        "id": "8vZx2fDOwyHe",
        "outputId": "60e971b8-653f-4a51-dff4-a266e83285f9"
      },
      "outputs": [
        {
          "data": {
            "text/plain": [
              "[1, 3, 5, 7, 9, 11, 13, 15, 17, 19, 21, 23, 25, 27, 29]"
            ]
          },
          "execution_count": 113,
          "metadata": {},
          "output_type": "execute_result"
        }
      ],
      "source": [
        "#No tocar, es para que veas la solución"
      ]
    },
    {
      "cell_type": "markdown",
      "metadata": {
        "id": "HdYnF5D2wyHe"
      },
      "source": [
        "## Ejercicio:\n",
        "\n",
        "Crea una  lista llamada amigos que contenga a Juan, Pedro, María y Marta. Y sácala por consola."
      ]
    },
    {
      "cell_type": "code",
      "execution_count": null,
      "metadata": {
        "id": "Wsk8fl2ewyHm"
      },
      "outputs": [],
      "source": []
    },
    {
      "cell_type": "code",
      "execution_count": null,
      "metadata": {
        "id": "uS_GNt0wwyHm",
        "outputId": "6122cc32-f640-4c69-9bfe-7d6438105c3d"
      },
      "outputs": [
        {
          "data": {
            "text/plain": [
              "['Juan', 'Pedro', 'María', 'Marta']"
            ]
          },
          "execution_count": 114,
          "metadata": {},
          "output_type": "execute_result"
        }
      ],
      "source": [
        "#No tocar, es para que veas la solución"
      ]
    },
    {
      "cell_type": "markdown",
      "metadata": {
        "id": "eL5XYyDIwyHm"
      },
      "source": [
        "## Ejercicio:\n",
        "\n",
        "Acaban de conocer a Marcos y Sofía y se han hecho amigos. Añádelos al grupo. Y saca la nueva lista por consola."
      ]
    },
    {
      "cell_type": "code",
      "execution_count": null,
      "metadata": {
        "id": "mGInAwWgwyHm"
      },
      "outputs": [],
      "source": []
    },
    {
      "cell_type": "code",
      "execution_count": null,
      "metadata": {
        "id": "6ZzL6XBUwyHm",
        "outputId": "c629dbc8-36fe-44a9-893c-7fbbc89aaecb"
      },
      "outputs": [
        {
          "data": {
            "text/plain": [
              "['Juan', 'Pedro', 'María', 'Marta', 'Marcos', 'Sofia']"
            ]
          },
          "execution_count": 115,
          "metadata": {},
          "output_type": "execute_result"
        }
      ],
      "source": [
        "#No tocar, es para que veas la solución"
      ]
    },
    {
      "cell_type": "markdown",
      "metadata": {
        "id": "LkoJAmcLwyHm"
      },
      "source": [
        "## Ejercicio:\n",
        "\n",
        "También han conocido a Paula. Añádela al grupo. Y saca la nueva lista por consola."
      ]
    },
    {
      "cell_type": "code",
      "execution_count": null,
      "metadata": {
        "id": "_NuBgmI3wyHn"
      },
      "outputs": [],
      "source": []
    },
    {
      "cell_type": "code",
      "execution_count": null,
      "metadata": {
        "id": "16QHMHHXwyHn",
        "outputId": "c4dd7428-6310-46dc-88b6-35f86dad3207"
      },
      "outputs": [
        {
          "data": {
            "text/plain": [
              "['Juan', 'Pedro', 'María', 'Marta', 'Marcos', 'Sofia', 'Paula']"
            ]
          },
          "execution_count": 116,
          "metadata": {},
          "output_type": "execute_result"
        }
      ],
      "source": [
        "#No tocar, es para que veas la solución"
      ]
    },
    {
      "cell_type": "markdown",
      "metadata": {
        "id": "MnXbxxdAwyHn"
      },
      "source": [
        "## Ejercicio:\n",
        "\n",
        "Al final Paula salió rana. Sácala de la lista e imprime por consola como ha quedado el grupo"
      ]
    },
    {
      "cell_type": "code",
      "execution_count": null,
      "metadata": {
        "id": "wfOmCFR7wyHn"
      },
      "outputs": [],
      "source": []
    },
    {
      "cell_type": "code",
      "execution_count": null,
      "metadata": {
        "id": "W2C58mo8wyHn",
        "outputId": "94c7a189-cf2c-4ddd-a191-262d3530bf0a"
      },
      "outputs": [
        {
          "data": {
            "text/plain": [
              "['Juan', 'Pedro', 'María', 'Marta', 'Marcos', 'Sofia']"
            ]
          },
          "execution_count": 117,
          "metadata": {},
          "output_type": "execute_result"
        }
      ],
      "source": [
        "#No tocar, es para que veas la solución"
      ]
    },
    {
      "cell_type": "markdown",
      "metadata": {
        "id": "qksNrkGmwyHn"
      },
      "source": [
        "## Ejercicio:\n",
        "\n",
        "¿Hay algún amigo que se llame Alfredo? (Verdadero/Falso)"
      ]
    },
    {
      "cell_type": "code",
      "execution_count": null,
      "metadata": {
        "id": "nnbgyqRdwyHn"
      },
      "outputs": [],
      "source": []
    },
    {
      "cell_type": "code",
      "execution_count": null,
      "metadata": {
        "id": "2J4QQtgzwyHn",
        "outputId": "904fbfc2-2d3b-4590-d80c-c4fdec67e9a6"
      },
      "outputs": [
        {
          "data": {
            "text/plain": [
              "False"
            ]
          },
          "execution_count": 118,
          "metadata": {},
          "output_type": "execute_result"
        }
      ],
      "source": [
        "#No tocar, es para que veas la solución"
      ]
    },
    {
      "cell_type": "markdown",
      "metadata": {
        "id": "0phlWjnKwyHo"
      },
      "source": [
        "## Ejercicio:\n",
        "\n",
        "Ordena alfabéticamente la lista de amigos y saca el resultado por consola"
      ]
    },
    {
      "cell_type": "code",
      "execution_count": null,
      "metadata": {
        "id": "NMDwqAFzwyHo"
      },
      "outputs": [],
      "source": []
    },
    {
      "cell_type": "code",
      "execution_count": null,
      "metadata": {
        "id": "jFrY63BFwyHo",
        "outputId": "75b79849-5b52-463a-e37c-fc66ce09d863"
      },
      "outputs": [
        {
          "data": {
            "text/plain": [
              "['Juan', 'Marcos', 'Marta', 'María', 'Pedro', 'Sofia']"
            ]
          },
          "execution_count": 119,
          "metadata": {},
          "output_type": "execute_result"
        }
      ],
      "source": [
        "#No tocar, es para que veas la solución"
      ]
    },
    {
      "cell_type": "markdown",
      "metadata": {
        "id": "WMydm8SswyHo"
      },
      "source": [
        "## Ejercicio:\n",
        "\n",
        "Saca por consola solo los 3 primeros amigos de la lista."
      ]
    },
    {
      "cell_type": "code",
      "execution_count": null,
      "metadata": {
        "id": "OnDAuYYDwyHo"
      },
      "outputs": [],
      "source": []
    },
    {
      "cell_type": "code",
      "execution_count": null,
      "metadata": {
        "id": "W_JT5W3YwyHo",
        "outputId": "52c2f090-419e-4cd4-8738-8ea2e8263021"
      },
      "outputs": [
        {
          "data": {
            "text/plain": [
              "['Juan', 'Marcos', 'Marta']"
            ]
          },
          "execution_count": 120,
          "metadata": {},
          "output_type": "execute_result"
        }
      ],
      "source": [
        "#No tocar, es para que veas la solución"
      ]
    },
    {
      "cell_type": "markdown",
      "metadata": {
        "id": "SrOUdOinwyHo"
      },
      "source": [
        "## Ejercicio:\n",
        "\n",
        "Localiza en qué posición de la lista está Pedro (empezando por cero)"
      ]
    },
    {
      "cell_type": "code",
      "execution_count": null,
      "metadata": {
        "id": "5yqB4PvvwyHp"
      },
      "outputs": [],
      "source": []
    },
    {
      "cell_type": "code",
      "execution_count": null,
      "metadata": {
        "id": "KHY_lYB8wyHp",
        "outputId": "cf851337-fe41-42ca-ef44-a8cf9455bf64"
      },
      "outputs": [
        {
          "data": {
            "text/plain": [
              "4"
            ]
          },
          "execution_count": 121,
          "metadata": {},
          "output_type": "execute_result"
        }
      ],
      "source": [
        "#No tocar, es para que veas la solución"
      ]
    },
    {
      "cell_type": "markdown",
      "metadata": {
        "id": "iEUvikGswyHp"
      },
      "source": [
        "## Ejercicio:\n",
        "\n",
        "Usa list comprehension para sacar por consola sólo los nombres de amigos que empiecen por M"
      ]
    },
    {
      "cell_type": "code",
      "execution_count": null,
      "metadata": {
        "id": "JeP9eBm_wyHp"
      },
      "outputs": [],
      "source": []
    },
    {
      "cell_type": "code",
      "execution_count": null,
      "metadata": {
        "id": "UHWpSE7OwyHp"
      },
      "outputs": [],
      "source": [
        "#No tocar, es para que veas la solución"
      ]
    },
    {
      "cell_type": "markdown",
      "metadata": {
        "id": "pQrXmzEIwyHp"
      },
      "source": [
        "## Ejercicio:\n",
        "\n",
        "Ahora haz lo mismo pero sin usar list comprehension (con for e if \"clásicos\")"
      ]
    },
    {
      "cell_type": "code",
      "execution_count": null,
      "metadata": {
        "id": "aXrCR4G3wyHp",
        "outputId": "9c01e9fa-eddf-4ff7-808c-2b3b72995879"
      },
      "outputs": [
        {
          "name": "stdout",
          "output_type": "stream",
          "text": [
            "Marcos\n",
            "Marta\n",
            "María\n"
          ]
        }
      ],
      "source": []
    },
    {
      "cell_type": "code",
      "execution_count": null,
      "metadata": {
        "id": "5sd3CchgwyHp",
        "outputId": "4e63f7b5-fc6d-4df3-f13c-bae931189a00"
      },
      "outputs": [
        {
          "name": "stdout",
          "output_type": "stream",
          "text": [
            "Marcos\n",
            "Marta\n",
            "María\n"
          ]
        }
      ],
      "source": [
        "#No tocar, es para que veas la solución"
      ]
    },
    {
      "cell_type": "markdown",
      "metadata": {
        "id": "gyVmyBuSwyHq"
      },
      "source": [
        "## Ejercicio:\n",
        "\n",
        "Crea un contador de 'nombres que empiecen por M', recorre toda la lista con un for, suma 1 cada vez que encuentres uno e imprime el resultado final."
      ]
    },
    {
      "cell_type": "code",
      "execution_count": null,
      "metadata": {
        "id": "4G-Mr4vswyHq",
        "outputId": "56e9b2ed-35fa-4fde-83a9-8eb94e89e517"
      },
      "outputs": [
        {
          "name": "stdout",
          "output_type": "stream",
          "text": [
            "3\n"
          ]
        }
      ],
      "source": []
    },
    {
      "cell_type": "code",
      "execution_count": null,
      "metadata": {
        "id": "GMzqPctawyHq",
        "outputId": "5db7c77f-73cf-430d-cd47-d20718c4b629"
      },
      "outputs": [
        {
          "name": "stdout",
          "output_type": "stream",
          "text": [
            "3\n"
          ]
        }
      ],
      "source": [
        "#No tocar, es para que veas la solución"
      ]
    },
    {
      "cell_type": "markdown",
      "metadata": {
        "id": "s2BWd1uvwyHq"
      },
      "source": [
        "## Ejercicio:\n",
        "\n",
        "A continuación te paso listas con los chicos y las chicas. Están en orden de quien es pareja de quien. Tienes que crear el diccionario pareja_de donde las claves sean los chicos y los valores las chicas. Finalmente imprímelo por consola."
      ]
    },
    {
      "cell_type": "code",
      "execution_count": null,
      "metadata": {
        "id": "bd2YygrPwyHq"
      },
      "outputs": [],
      "source": [
        "chicos = ['Juan','Marcos','Pedro']\n",
        "chicas = ['Marta','María','Sofía']"
      ]
    },
    {
      "cell_type": "code",
      "execution_count": null,
      "metadata": {
        "id": "gfyacvOowyHq",
        "outputId": "9406aa05-2f35-4d58-825e-c820243027a0"
      },
      "outputs": [
        {
          "name": "stdout",
          "output_type": "stream",
          "text": [
            "{'Juan': 'Marta', 'Marcos': 'María', 'Pedro': 'Sofía'}\n"
          ]
        }
      ],
      "source": []
    },
    {
      "cell_type": "code",
      "execution_count": null,
      "metadata": {
        "id": "ZuvXKZVFwyHq",
        "outputId": "088afb74-d89c-4f73-c395-be0cef93b9a5"
      },
      "outputs": [
        {
          "name": "stdout",
          "output_type": "stream",
          "text": [
            "{'Juan': 'Marta', 'Marcos': 'María', 'Pedro': 'Sofía'}\n"
          ]
        }
      ],
      "source": [
        "#No tocar, es para que veas la solución"
      ]
    },
    {
      "cell_type": "markdown",
      "metadata": {
        "id": "w3_BceO2wyHr"
      },
      "source": [
        "## Ejercicio:\n",
        "\n",
        "Saca por consola la pareja de Marcos"
      ]
    },
    {
      "cell_type": "code",
      "execution_count": null,
      "metadata": {
        "id": "ReZZQMiEwyHr",
        "outputId": "88227194-47b3-4f72-a9f8-e36459845b0a"
      },
      "outputs": [
        {
          "data": {
            "text/plain": [
              "'María'"
            ]
          },
          "execution_count": 127,
          "metadata": {},
          "output_type": "execute_result"
        }
      ],
      "source": []
    },
    {
      "cell_type": "code",
      "execution_count": null,
      "metadata": {
        "id": "75Owzgp5wyHr",
        "outputId": "b8339ac5-b4ca-4d93-eb5a-b2dca32bd9a7"
      },
      "outputs": [
        {
          "data": {
            "text/plain": [
              "'María'"
            ]
          },
          "execution_count": 127,
          "metadata": {},
          "output_type": "execute_result"
        }
      ],
      "source": [
        "#No tocar, es para que veas la solución"
      ]
    },
    {
      "cell_type": "markdown",
      "metadata": {
        "id": "fH9dmhiwwyHr"
      },
      "source": [
        "## Ejercicio:\n",
        "\n",
        "Al final Marcos y María han roto, y ahora la nueva pareja de Marcos es Paula. Actualízadlo en el diccionario e imprime como queda ahora el diccionario."
      ]
    },
    {
      "cell_type": "code",
      "execution_count": null,
      "metadata": {
        "id": "k8yxfpzZwyHr",
        "outputId": "3cedfa5f-b8f9-4adf-9fb8-b3044565f43b"
      },
      "outputs": [
        {
          "data": {
            "text/plain": [
              "{'Juan': 'Marta', 'Marcos': 'Paula', 'Pedro': 'Sofía'}"
            ]
          },
          "execution_count": 128,
          "metadata": {},
          "output_type": "execute_result"
        }
      ],
      "source": []
    },
    {
      "cell_type": "code",
      "execution_count": null,
      "metadata": {
        "id": "wPjvZxvcwyHr",
        "outputId": "6c707ffe-19fe-4ec1-fab8-69d6c3582b2e"
      },
      "outputs": [
        {
          "data": {
            "text/plain": [
              "{'Juan': 'Marta', 'Marcos': 'Paula', 'Pedro': 'Sofía'}"
            ]
          },
          "execution_count": 128,
          "metadata": {},
          "output_type": "execute_result"
        }
      ],
      "source": [
        "#No tocar, es para que veas la solución"
      ]
    },
    {
      "cell_type": "markdown",
      "metadata": {
        "id": "-72KxNYFwyHr"
      },
      "source": [
        "## Ejercicio:\n",
        "\n",
        "El grupo se ha puesto de parte de María, así que han echado a Marcos y a su nueva pareja. Sácalos del grupo e imprime cómo queda."
      ]
    },
    {
      "cell_type": "code",
      "execution_count": null,
      "metadata": {
        "id": "1x1z2zOZwyHr",
        "outputId": "d71ab744-c624-4e07-b798-de7f0fd1fa54"
      },
      "outputs": [
        {
          "data": {
            "text/plain": [
              "{'Juan': 'Marta', 'Pedro': 'Sofía'}"
            ]
          },
          "execution_count": 129,
          "metadata": {},
          "output_type": "execute_result"
        }
      ],
      "source": []
    },
    {
      "cell_type": "code",
      "execution_count": null,
      "metadata": {
        "id": "yc9SDv_3wyHs",
        "outputId": "a77e7d5c-7c40-4d91-92eb-a418bdf23932"
      },
      "outputs": [
        {
          "data": {
            "text/plain": [
              "{'Juan': 'Marta', 'Pedro': 'Sofía'}"
            ]
          },
          "execution_count": 129,
          "metadata": {},
          "output_type": "execute_result"
        }
      ],
      "source": [
        "#No tocar, es para que veas la solución"
      ]
    },
    {
      "cell_type": "markdown",
      "metadata": {
        "id": "xmbT43WWwyHs"
      },
      "source": [
        "## Ejercicio:\n",
        "\n",
        "Hay que actualizar la lista de chicos y chicas. Hazlo siguiendo estas instrucciones:\n",
        "\n",
        "1. Crea nuevas listas vacías de chicos y chicas\n",
        "2. Recorre el diccinario pareja_de con un for y mediante tuple unpacking separa cada item del diccionario en chico y chica\n",
        "3. Añade chico y chica a sus respectivas listas\n",
        "4. Saca por pantalla chicos y chicas"
      ]
    },
    {
      "cell_type": "code",
      "execution_count": null,
      "metadata": {
        "id": "TnzTZW6cwyHs",
        "outputId": "8ed68c57-441e-4cdc-cf5e-f87d69047b69"
      },
      "outputs": [
        {
          "name": "stdout",
          "output_type": "stream",
          "text": [
            "['Juan', 'Pedro']\n",
            "['Marta', 'Sofía']\n"
          ]
        }
      ],
      "source": []
    },
    {
      "cell_type": "code",
      "execution_count": null,
      "metadata": {
        "id": "6yZUP1bBwyHs",
        "outputId": "535945cd-da1d-499a-a4c3-5b9b50112fa1"
      },
      "outputs": [
        {
          "name": "stdout",
          "output_type": "stream",
          "text": [
            "['Juan', 'Pedro']\n",
            "['Marta', 'Sofía']\n"
          ]
        }
      ],
      "source": [
        "#No tocar, es para que veas la solución"
      ]
    },
    {
      "cell_type": "markdown",
      "metadata": {
        "id": "Y_EbpLY9wyHs"
      },
      "source": [
        "## Ejercicio:\n",
        "\n",
        "Extrae la palabra 'perro' del siguiente objeto."
      ]
    },
    {
      "cell_type": "code",
      "execution_count": null,
      "metadata": {
        "id": "yAWpm06wwyHs"
      },
      "outputs": [],
      "source": [
        "obj = [1,2,{'nombre':'Manuel','ciudad':'Madrid','vive_con':[{'mujer': 'Julia','hijo':'Andres','mascotas':['gato','perro']},'ah y un hamster']},4,5]"
      ]
    },
    {
      "cell_type": "code",
      "execution_count": null,
      "metadata": {
        "id": "oqLcqkMQwyHs",
        "outputId": "f458680c-3c99-4b98-b310-595bfb728d1b"
      },
      "outputs": [
        {
          "data": {
            "text/plain": [
              "'perro'"
            ]
          },
          "execution_count": 132,
          "metadata": {},
          "output_type": "execute_result"
        }
      ],
      "source": []
    },
    {
      "cell_type": "code",
      "execution_count": null,
      "metadata": {
        "id": "DqHKR2rtwyHs",
        "outputId": "e66b9e30-4fcd-4516-9937-beeb0d0be67c"
      },
      "outputs": [
        {
          "data": {
            "text/plain": [
              "'perro'"
            ]
          },
          "execution_count": 132,
          "metadata": {},
          "output_type": "execute_result"
        }
      ],
      "source": [
        "#No tocar, es para que veas la solución"
      ]
    },
    {
      "cell_type": "markdown",
      "metadata": {
        "id": "xBN0as3DwyHt"
      },
      "source": [
        "## Ejercicio:\n",
        "\n",
        "Crea una función que se llame imc para calcular el índice de masa corporal a partir de la estatura (en metros) y el peso (en kilos).\n",
        "\n",
        "La fórmula es IMC = peso (kg) / estatura (m) al cuadrado.\n",
        "\n",
        "Pruébala pasándole por ejemplo tus datos."
      ]
    },
    {
      "cell_type": "code",
      "execution_count": null,
      "metadata": {
        "id": "Js3p2G0ywyHt",
        "outputId": "498e0ed1-1928-470f-8234-12a9f1f80ba2"
      },
      "outputs": [
        {
          "data": {
            "text/plain": [
              "30.864197530864196"
            ]
          },
          "execution_count": 133,
          "metadata": {},
          "output_type": "execute_result"
        }
      ],
      "source": []
    },
    {
      "cell_type": "code",
      "execution_count": null,
      "metadata": {
        "id": "3AUT0YX-wyHt",
        "outputId": "3f52f724-8e90-4c6e-ede6-05e21e0e85ef"
      },
      "outputs": [
        {
          "data": {
            "text/plain": [
              "30.864197530864196"
            ]
          },
          "execution_count": 133,
          "metadata": {},
          "output_type": "execute_result"
        }
      ],
      "source": [
        "#No tocar, es para que veas la solución"
      ]
    },
    {
      "cell_type": "markdown",
      "metadata": {
        "id": "FkdNtxJKwyHt"
      },
      "source": [
        "## Ejercicio:\n",
        "\n",
        "Crea la misma función pero como una lambda que meta el dato en la variable resultado. Pruébala de nuevo."
      ]
    },
    {
      "cell_type": "code",
      "execution_count": null,
      "metadata": {
        "id": "A1PlL-0EwyHt",
        "outputId": "025996c7-72fd-4729-fbfb-766c4c40442d"
      },
      "outputs": [
        {
          "data": {
            "text/plain": [
              "30.864197530864196"
            ]
          },
          "execution_count": 134,
          "metadata": {},
          "output_type": "execute_result"
        }
      ],
      "source": []
    },
    {
      "cell_type": "code",
      "execution_count": null,
      "metadata": {
        "id": "jWC3QHw4wyHt",
        "outputId": "2551150f-6ded-48d0-dc60-2f5eabe719c4"
      },
      "outputs": [
        {
          "data": {
            "text/plain": [
              "30.864197530864196"
            ]
          },
          "execution_count": 134,
          "metadata": {},
          "output_type": "execute_result"
        }
      ],
      "source": [
        "#No tocar, es para que veas la solución"
      ]
    },
    {
      "cell_type": "markdown",
      "metadata": {
        "id": "jdR33aSQwyHt"
      },
      "source": [
        "## Ejercicio:\n",
        "\n",
        "Crea un pequeño programa que:\n",
        "\n",
        "1. Pregunte al usuario por su peso en kilos y su estatura en centímetros\n",
        "2. Llame a la función imc (acuérdate de transformar la estatura a metros)\n",
        "3. Si imc >25 aconseje al usuario un poco de dieta y ejercicio"
      ]
    },
    {
      "cell_type": "code",
      "execution_count": null,
      "metadata": {
        "id": "jgAfXysOwyHt",
        "outputId": "6f1642c2-4b1f-45f3-93ec-198d34f1fbba"
      },
      "outputs": [
        {
          "name": "stdout",
          "output_type": "stream",
          "text": [
            "\n",
            " Introduce tu peso en kilos: 100\n",
            "\n",
            " Introduce tu estatura en centímetros: 180\n",
            "\n",
            " Umm, tu imc es de 30.86 quizá sería recomendable un poco de dieta y ejercicio\n"
          ]
        }
      ],
      "source": []
    },
    {
      "cell_type": "code",
      "execution_count": null,
      "metadata": {
        "id": "FoQbwRGYwyHu",
        "outputId": "1d8418e1-64d6-498b-860b-07b2288fbc4d"
      },
      "outputs": [
        {
          "name": "stdout",
          "output_type": "stream",
          "text": [
            "\n",
            " Introduce tu peso en kilos: 100\n",
            "\n",
            " Introduce tu estatura en centímetros: 180\n",
            "\n",
            " Umm, tu imc es de 30.86 quizá sería recomendable un poco de dieta y ejercicio\n"
          ]
        }
      ],
      "source": [
        "#No tocar, es para que veas la solución"
      ]
    },
    {
      "cell_type": "markdown",
      "metadata": {
        "id": "s09A5MkkwyHu"
      },
      "source": [
        "## Ejercicio:\n",
        "\n",
        "Importa los módulos random y statistics y crea un programa que:\n",
        "\n",
        "Cree una lista vacía llamada imcs\n",
        "\n",
        "Repita 100 veces el siguiente proceso:\n",
        "\n",
        "    * Calcular aletoriamente un peso entre 50 y 100\n",
        "    * Calcular aletoriamente una estatura entre 150 y 200 y convertirla a metros\n",
        "    * Llamar a la función imc y añadir el resultado a la lista imcs\n",
        "   \n",
        "Usando funciones del paquete statistics imprima por pantalla la media y la desviación típica de la distribución final obtenida.\n",
        "\n",
        "Pista: puedes buscar las funciones que te ayuden a hacerlo en:\n",
        "\n",
        "https://www.w3schools.com/python/module_random.asp\n",
        "\n",
        "https://www.w3schools.com/python/ref_stat_mean.asp\n"
      ]
    },
    {
      "cell_type": "code",
      "execution_count": null,
      "metadata": {
        "id": "9_igMvuhwyHu",
        "outputId": "3692e92c-1b2c-4a56-8787-ec94dfb7f941"
      },
      "outputs": [
        {
          "name": "stdout",
          "output_type": "stream",
          "text": [
            "27.78832633918493\n",
            "9.122130266530384\n"
          ]
        }
      ],
      "source": []
    },
    {
      "cell_type": "code",
      "execution_count": null,
      "metadata": {
        "id": "xXZkSXumwyHu",
        "outputId": "eda11e2a-cded-46ab-efcb-4108e9604692"
      },
      "outputs": [
        {
          "name": "stdout",
          "output_type": "stream",
          "text": [
            "27.78832633918493\n",
            "9.122130266530384\n"
          ]
        }
      ],
      "source": [
        "#No tocar, es para que veas la solución"
      ]
    }
  ],
  "metadata": {
    "kernelspec": {
      "display_name": "Python 3",
      "language": "python",
      "name": "python3"
    },
    "language_info": {
      "codemirror_mode": {
        "name": "ipython",
        "version": 3
      },
      "file_extension": ".py",
      "mimetype": "text/x-python",
      "name": "python",
      "nbconvert_exporter": "python",
      "pygments_lexer": "ipython3",
      "version": "3.9.1"
    },
    "toc": {
      "base_numbering": 1,
      "nav_menu": {},
      "number_sections": true,
      "sideBar": true,
      "skip_h1_title": false,
      "title_cell": "Table of Contents",
      "title_sidebar": "Contents",
      "toc_cell": false,
      "toc_position": {},
      "toc_section_display": true,
      "toc_window_display": true
    },
    "varInspector": {
      "cols": {
        "lenName": 16,
        "lenType": 16,
        "lenVar": 40
      },
      "kernels_config": {
        "python": {
          "delete_cmd_postfix": "",
          "delete_cmd_prefix": "del ",
          "library": "var_list.py",
          "varRefreshCmd": "print(var_dic_list())"
        },
        "r": {
          "delete_cmd_postfix": ") ",
          "delete_cmd_prefix": "rm(",
          "library": "var_list.r",
          "varRefreshCmd": "cat(var_dic_list()) "
        }
      },
      "types_to_exclude": [
        "module",
        "function",
        "builtin_function_or_method",
        "instance",
        "_Feature"
      ],
      "window_display": false
    },
    "colab": {
      "provenance": [],
      "include_colab_link": true
    }
  },
  "nbformat": 4,
  "nbformat_minor": 0
}