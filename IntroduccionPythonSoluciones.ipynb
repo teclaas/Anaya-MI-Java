{
  "cells": [
    {
      "cell_type": "markdown",
      "metadata": {
        "id": "view-in-github",
        "colab_type": "text"
      },
      "source": [
        "<a href=\"https://colab.research.google.com/github/teclaas/Anaya-MI-Java/blob/main/IntroduccionPythonSoluciones.ipynb\" target=\"_parent\"><img src=\"https://colab.research.google.com/assets/colab-badge.svg\" alt=\"Open In Colab\"/></a>"
      ]
    },
    {
      "cell_type": "markdown",
      "metadata": {
        "id": "CGsvXlqGyFIP"
      },
      "source": [
        "# INTRODUCCION A PYTHON: SOLUCIÓN A EJERCICIOS"
      ]
    },
    {
      "cell_type": "markdown",
      "metadata": {
        "id": "a5Rw8I_JyFIQ"
      },
      "source": [
        "### Ejercicio:\n",
        "\n",
        "Calcula ocho menos 5"
      ]
    },
    {
      "cell_type": "code",
      "execution_count": null,
      "metadata": {
        "id": "k0YzP9rwyFIR",
        "outputId": "4023945a-21ea-4841-9fcd-81997a0746b1",
        "colab": {
          "base_uri": "https://localhost:8080/"
        }
      },
      "outputs": [
        {
          "output_type": "execute_result",
          "data": {
            "text/plain": [
              "3"
            ]
          },
          "metadata": {},
          "execution_count": 1
        }
      ],
      "source": [
        "8-5"
      ]
    },
    {
      "cell_type": "markdown",
      "metadata": {
        "id": "cVrknj9MyFIS"
      },
      "source": [
        "### Ejercicio:\n",
        "\n",
        "Calcula 4 al cuadrado"
      ]
    },
    {
      "cell_type": "code",
      "execution_count": null,
      "metadata": {
        "id": "RrJUM5ChyFIS",
        "outputId": "500df68d-f661-4783-cc24-e6442205ad5b"
      },
      "outputs": [
        {
          "data": {
            "text/plain": [
              "16"
            ]
          },
          "execution_count": 103,
          "metadata": {},
          "output_type": "execute_result"
        }
      ],
      "source": [
        "4 ** 2"
      ]
    },
    {
      "cell_type": "markdown",
      "metadata": {
        "id": "QvkU-V_GyFIS"
      },
      "source": [
        "### Ejercicio:\n",
        "\n",
        "Comprueba si 8 es diferente de 9"
      ]
    },
    {
      "cell_type": "code",
      "execution_count": null,
      "metadata": {
        "id": "H_GquHS2yFIS",
        "outputId": "8dd61467-a1c5-4931-a96e-cc72bda3c89f"
      },
      "outputs": [
        {
          "data": {
            "text/plain": [
              "True"
            ]
          },
          "execution_count": 104,
          "metadata": {},
          "output_type": "execute_result"
        }
      ],
      "source": [
        "8 != 9"
      ]
    },
    {
      "cell_type": "markdown",
      "metadata": {
        "id": "SSWLkjwjyFIS"
      },
      "source": [
        "### Ejercicio:\n",
        "\n",
        "En una sola línea asigna 'Francisco' a la variable nombre y 'García' a la variable apellido, y en otras 2 líneas imprime cada uno"
      ]
    },
    {
      "cell_type": "code",
      "execution_count": null,
      "metadata": {
        "id": "kDghBIP7yFIS",
        "outputId": "5b9b21c0-0a25-4095-c163-b9d32afcc9cb"
      },
      "outputs": [
        {
          "name": "stdout",
          "output_type": "stream",
          "text": [
            "Francisco\n",
            "García\n"
          ]
        }
      ],
      "source": [
        "nombre, apellido = ['Francisco','García']\n",
        "print(nombre)\n",
        "print(apellido)"
      ]
    },
    {
      "cell_type": "markdown",
      "metadata": {
        "id": "F_dE67RQyFIT"
      },
      "source": [
        "### Ejercicio:\n",
        "\n",
        "Usando las variables anteriores imprime de forma dinámica (usando format) la frase 'Me llamo Francisco y me apellido García'"
      ]
    },
    {
      "cell_type": "code",
      "execution_count": null,
      "metadata": {
        "id": "6C0qZ8LpyFIT",
        "outputId": "9951362a-d4ed-40af-d787-8298f0791000"
      },
      "outputs": [
        {
          "name": "stdout",
          "output_type": "stream",
          "text": [
            "Me llamo Francisco y me apellido García\n"
          ]
        }
      ],
      "source": [
        "print('Me llamo {} y me apellido {}'.format(nombre, apellido))"
      ]
    },
    {
      "cell_type": "markdown",
      "metadata": {
        "id": "P9d4JrZUyFIT"
      },
      "source": [
        "### Ejercicio:\n",
        "\n",
        "Crea una variable frase que contenga 'Me llamo Francisco y me apellido García'. Y después pásalo todo a mayúsculas"
      ]
    },
    {
      "cell_type": "code",
      "execution_count": null,
      "metadata": {
        "id": "7iOMebIIyFIT",
        "outputId": "c978286c-c31d-4bcd-995c-f3e87d03f507"
      },
      "outputs": [
        {
          "data": {
            "text/plain": [
              "'ME LLAMO FRANCISCO Y ME APELLIDO GARCÍA'"
            ]
          },
          "execution_count": 107,
          "metadata": {},
          "output_type": "execute_result"
        }
      ],
      "source": [
        "frase = 'Me llamo Francisco y me apellido García'\n",
        "frase.upper()"
      ]
    },
    {
      "cell_type": "markdown",
      "metadata": {
        "id": "sIExYTnlyFIT"
      },
      "source": [
        "### Ejercicio:\n",
        "\n",
        "Crea una lista (sin picarla a mano) que se llame lista_palabras y que contenga todas las palabras de la frase anterior. Después sácala por consola."
      ]
    },
    {
      "cell_type": "code",
      "execution_count": null,
      "metadata": {
        "id": "TzPHwStXyFIT",
        "outputId": "186db188-6b11-4cbb-ea6a-d67dcc1a202b"
      },
      "outputs": [
        {
          "data": {
            "text/plain": [
              "['Me', 'llamo', 'Francisco', 'y', 'me', 'apellido', 'García']"
            ]
          },
          "execution_count": 108,
          "metadata": {},
          "output_type": "execute_result"
        }
      ],
      "source": [
        "lista_palabras = frase.split()\n",
        "lista_palabras"
      ]
    },
    {
      "cell_type": "markdown",
      "metadata": {
        "id": "uzLmgUtgyFIU"
      },
      "source": [
        "### Ejercicio:\n",
        "\n",
        "Cuenta cuantas palabras hay en lista_palabras"
      ]
    },
    {
      "cell_type": "code",
      "execution_count": null,
      "metadata": {
        "id": "pqFlrawGyFIU",
        "outputId": "5d8d7b30-764b-4e9a-98f3-a37ec32957b1"
      },
      "outputs": [
        {
          "data": {
            "text/plain": [
              "7"
            ]
          },
          "execution_count": 109,
          "metadata": {},
          "output_type": "execute_result"
        }
      ],
      "source": [
        "len(lista_palabras)"
      ]
    },
    {
      "cell_type": "markdown",
      "metadata": {
        "id": "M93m0C4PyFIU"
      },
      "source": [
        "### Ejercicio:\n",
        "\n",
        "Convierte 13.24 a entero"
      ]
    },
    {
      "cell_type": "code",
      "execution_count": null,
      "metadata": {
        "id": "fkGUXEItyFIU",
        "outputId": "6b4e2ec0-8e99-47fe-abc6-6bdb98b4ba33"
      },
      "outputs": [
        {
          "data": {
            "text/plain": [
              "13"
            ]
          },
          "execution_count": 110,
          "metadata": {},
          "output_type": "execute_result"
        }
      ],
      "source": [
        "int(13.24)"
      ]
    },
    {
      "cell_type": "markdown",
      "metadata": {
        "id": "9Fv2S6cZyFIU"
      },
      "source": [
        "### Ejercicio:\n",
        "\n",
        "Convierte 13 a real"
      ]
    },
    {
      "cell_type": "code",
      "execution_count": null,
      "metadata": {
        "id": "z5leGgnoyFIU",
        "outputId": "1f8ed00d-4a25-49e6-9db3-039763142c81"
      },
      "outputs": [
        {
          "data": {
            "text/plain": [
              "13.0"
            ]
          },
          "execution_count": 111,
          "metadata": {},
          "output_type": "execute_result"
        }
      ],
      "source": [
        "float(13)"
      ]
    },
    {
      "cell_type": "markdown",
      "metadata": {
        "id": "h_v0Yn-CyFIU"
      },
      "source": [
        "### Ejercicio:\n",
        "\n",
        "Convierte 13 a texto"
      ]
    },
    {
      "cell_type": "code",
      "execution_count": null,
      "metadata": {
        "id": "HtaEmjK4yFIV",
        "outputId": "4f222bfe-7d14-4213-9841-563a7ab09f3d"
      },
      "outputs": [
        {
          "data": {
            "text/plain": [
              "'13'"
            ]
          },
          "execution_count": 112,
          "metadata": {},
          "output_type": "execute_result"
        }
      ],
      "source": [
        "str(13)"
      ]
    },
    {
      "cell_type": "markdown",
      "metadata": {
        "id": "kDI16UosyFIV"
      },
      "source": [
        "### Ejercicio:\n",
        "\n",
        "Crea una lista de los números impares entre y 30"
      ]
    },
    {
      "cell_type": "code",
      "execution_count": null,
      "metadata": {
        "id": "6vAo24kiyFIV",
        "outputId": "37c855bb-500f-43cf-ed48-77e2efbae743"
      },
      "outputs": [
        {
          "data": {
            "text/plain": [
              "[1, 3, 5, 7, 9, 11, 13, 15, 17, 19, 21, 23, 25, 27, 29]"
            ]
          },
          "execution_count": 113,
          "metadata": {},
          "output_type": "execute_result"
        }
      ],
      "source": [
        "list(range(1,30,2))"
      ]
    },
    {
      "cell_type": "markdown",
      "metadata": {
        "id": "cSpUlHI3yFIV"
      },
      "source": [
        "### Ejercicio:\n",
        "\n",
        "Crea una  lista llamada amigos que contenga a Juan, Pedro, María y Marta. Y sácala por consola."
      ]
    },
    {
      "cell_type": "code",
      "execution_count": null,
      "metadata": {
        "id": "JWoPZwtTyFIV",
        "outputId": "6640e070-1ca2-4bd6-da63-333684c466b0"
      },
      "outputs": [
        {
          "data": {
            "text/plain": [
              "['Juan', 'Pedro', 'María', 'Marta']"
            ]
          },
          "execution_count": 114,
          "metadata": {},
          "output_type": "execute_result"
        }
      ],
      "source": [
        "amigos = ['Juan', 'Pedro', 'María', 'Marta']\n",
        "amigos"
      ]
    },
    {
      "cell_type": "markdown",
      "metadata": {
        "id": "iZPKheZDyFIV"
      },
      "source": [
        "### Ejercicio:\n",
        "\n",
        "Acaban de conocer a Marcos y Sofía y se han hecho amigos. Añádelos al grupo. Y saca la nueva lista por consola."
      ]
    },
    {
      "cell_type": "code",
      "execution_count": null,
      "metadata": {
        "id": "6sc7wJnByFIV",
        "outputId": "8a6db6b5-0efb-4db5-91ae-bbee17f9000c"
      },
      "outputs": [
        {
          "data": {
            "text/plain": [
              "['Juan', 'Pedro', 'María', 'Marta', 'Marcos', 'Sofia']"
            ]
          },
          "execution_count": 115,
          "metadata": {},
          "output_type": "execute_result"
        }
      ],
      "source": [
        "amigos.extend(['Marcos','Sofia'])\n",
        "amigos"
      ]
    },
    {
      "cell_type": "markdown",
      "metadata": {
        "id": "SioY2AR-yFIV"
      },
      "source": [
        "### Ejercicio:\n",
        "\n",
        "También han conocido a Paula. Añádela al grupo. Y saca la nueva lista por consola."
      ]
    },
    {
      "cell_type": "code",
      "execution_count": null,
      "metadata": {
        "id": "Gu0nv7s1yFIV",
        "outputId": "c1336884-828d-4e3b-ed6e-43034d0cd883"
      },
      "outputs": [
        {
          "data": {
            "text/plain": [
              "['Juan', 'Pedro', 'María', 'Marta', 'Marcos', 'Sofia', 'Paula']"
            ]
          },
          "execution_count": 116,
          "metadata": {},
          "output_type": "execute_result"
        }
      ],
      "source": [
        "amigos.append('Paula')\n",
        "amigos"
      ]
    },
    {
      "cell_type": "markdown",
      "metadata": {
        "id": "8IfqkoQPyFIW"
      },
      "source": [
        "### Ejercicio:\n",
        "\n",
        "Al final Paula salió rara. Sácala de la lista e imprime por consola como ha quedado el grupo"
      ]
    },
    {
      "cell_type": "code",
      "execution_count": null,
      "metadata": {
        "id": "sH8ljvILyFIW",
        "outputId": "566c14a9-1d9c-4621-9bcd-33c087169757"
      },
      "outputs": [
        {
          "data": {
            "text/plain": [
              "['Juan', 'Pedro', 'María', 'Marta', 'Marcos', 'Sofia']"
            ]
          },
          "execution_count": 117,
          "metadata": {},
          "output_type": "execute_result"
        }
      ],
      "source": [
        "amigos.remove('Paula')\n",
        "amigos"
      ]
    },
    {
      "cell_type": "markdown",
      "metadata": {
        "id": "9bZrNjOayFIW"
      },
      "source": [
        "### Ejercicio:\n",
        "\n",
        "¿Hay algún amigo que se llame Alfredo? (Verdadero/Falso)"
      ]
    },
    {
      "cell_type": "code",
      "execution_count": null,
      "metadata": {
        "id": "RqtqK9TZyFIW",
        "outputId": "13f1f431-50a6-4c8f-d8c5-6777268984a6"
      },
      "outputs": [
        {
          "data": {
            "text/plain": [
              "False"
            ]
          },
          "execution_count": 118,
          "metadata": {},
          "output_type": "execute_result"
        }
      ],
      "source": [
        "'Alfredo' in amigos"
      ]
    },
    {
      "cell_type": "markdown",
      "metadata": {
        "id": "fpJpglacyFIW"
      },
      "source": [
        "### Ejercicio:\n",
        "\n",
        "Ordena alfabéticamente la lista de amigos y saca el resultado por consola"
      ]
    },
    {
      "cell_type": "code",
      "execution_count": null,
      "metadata": {
        "id": "cdS9qFDEyFIW",
        "outputId": "a3a22d5c-d5b1-4f97-89ab-94b48a199e60"
      },
      "outputs": [
        {
          "data": {
            "text/plain": [
              "['Juan', 'Marcos', 'Marta', 'María', 'Pedro', 'Sofia']"
            ]
          },
          "execution_count": 119,
          "metadata": {},
          "output_type": "execute_result"
        }
      ],
      "source": [
        "amigos.sort(key=str.lower)\n",
        "amigos"
      ]
    },
    {
      "cell_type": "markdown",
      "metadata": {
        "id": "26UbzCc4yFIW"
      },
      "source": [
        "### Ejercicio:\n",
        "\n",
        "Saca por consola solo los 3 primeros amigos de la lista."
      ]
    },
    {
      "cell_type": "code",
      "execution_count": null,
      "metadata": {
        "id": "W8jG8jatyFIW",
        "outputId": "61127ab1-87a5-4de1-ae14-a82a22431de3"
      },
      "outputs": [
        {
          "data": {
            "text/plain": [
              "['Juan', 'Marcos', 'Marta']"
            ]
          },
          "execution_count": 120,
          "metadata": {},
          "output_type": "execute_result"
        }
      ],
      "source": [
        "amigos[0:3]"
      ]
    },
    {
      "cell_type": "markdown",
      "metadata": {
        "id": "jLFMKgBKyFIa"
      },
      "source": [
        "### Ejercicio:\n",
        "\n",
        "Localiza en qué posición de la lista está Pedro (empezando por cero)"
      ]
    },
    {
      "cell_type": "code",
      "execution_count": null,
      "metadata": {
        "id": "qfjBRsbEyFIa",
        "outputId": "646afd5e-5f92-48da-9975-d8a259b5e932"
      },
      "outputs": [
        {
          "data": {
            "text/plain": [
              "4"
            ]
          },
          "execution_count": 121,
          "metadata": {},
          "output_type": "execute_result"
        }
      ],
      "source": [
        "amigos.index('Pedro')"
      ]
    },
    {
      "cell_type": "markdown",
      "metadata": {
        "id": "sZa3Ad1JyFIa"
      },
      "source": [
        "### Ejercicio:\n",
        "\n",
        "Usa list comprehension para sacar por consola sólo los nombres de amigos que empiecen por M"
      ]
    },
    {
      "cell_type": "code",
      "execution_count": null,
      "metadata": {
        "id": "hZoLuASPyFIa",
        "outputId": "94d0bd56-7ed5-42db-9586-a97e3407e4f4"
      },
      "outputs": [
        {
          "name": "stdout",
          "output_type": "stream",
          "text": [
            "Marcos\n",
            "Marta\n",
            "María\n"
          ]
        },
        {
          "data": {
            "text/plain": [
              "[None, None, None]"
            ]
          },
          "execution_count": 122,
          "metadata": {},
          "output_type": "execute_result"
        }
      ],
      "source": [
        "[print(n) for n in amigos if n.startswith('M')]"
      ]
    },
    {
      "cell_type": "markdown",
      "metadata": {
        "id": "w7e59awqyFIa"
      },
      "source": [
        "### Ejercicio:\n",
        "\n",
        "Ahora haz lo mismo pero sin usar list comprehension (con for e if \"clásicos\")"
      ]
    },
    {
      "cell_type": "code",
      "execution_count": null,
      "metadata": {
        "id": "1WP4n-yyyFIb",
        "outputId": "29afe11c-bd08-4014-b12f-3146abc74ab9"
      },
      "outputs": [
        {
          "name": "stdout",
          "output_type": "stream",
          "text": [
            "Marcos\n",
            "Marta\n",
            "María\n"
          ]
        }
      ],
      "source": [
        "for n in amigos:\n",
        "    if n.startswith('M'):\n",
        "        print(n)"
      ]
    },
    {
      "cell_type": "markdown",
      "metadata": {
        "id": "-moEvlQpyFIb"
      },
      "source": [
        "### Ejercicio:\n",
        "\n",
        "Crea un contador de 'nombres que empiecen por M', recorre toda la lista con un for, suma 1 cada vez que encuentres uno e imprime el resultado final."
      ]
    },
    {
      "cell_type": "code",
      "execution_count": null,
      "metadata": {
        "id": "VszVyQwuyFIb",
        "outputId": "7fbc9e62-755a-4c62-c783-78e7f4239fb2"
      },
      "outputs": [
        {
          "name": "stdout",
          "output_type": "stream",
          "text": [
            "3\n"
          ]
        }
      ],
      "source": [
        "cont = 0\n",
        "for n in amigos:\n",
        "    if n.startswith('M'):\n",
        "        cont += 1\n",
        "print(cont)"
      ]
    },
    {
      "cell_type": "markdown",
      "metadata": {
        "id": "lckgvbVHyFIb"
      },
      "source": [
        "### Ejercicio:\n",
        "\n",
        "A continuación te paso listas con los chicos y las chicas. Están en orden de quien es pareja con quien. Tienes que crear el diccionario pareja_de donde las claves sean los chicos y los valores las chicas. Finalmente imprímelo por consola."
      ]
    },
    {
      "cell_type": "code",
      "execution_count": null,
      "metadata": {
        "id": "ZJh1-sJkyFIb"
      },
      "outputs": [],
      "source": [
        "chicos = ['Juan','Marcos','Pedro']\n",
        "chicas = ['Marta','María','Sofía']"
      ]
    },
    {
      "cell_type": "code",
      "execution_count": null,
      "metadata": {
        "id": "SnCN1kZwyFIb",
        "outputId": "afcf1b24-7f53-431b-f880-2bf821c958d8"
      },
      "outputs": [
        {
          "name": "stdout",
          "output_type": "stream",
          "text": [
            "{'Juan': 'Marta', 'Marcos': 'María', 'Pedro': 'Sofía'}\n"
          ]
        }
      ],
      "source": [
        "pareja_de = dict(zip(chicos,chicas))\n",
        "print(pareja_de)"
      ]
    },
    {
      "cell_type": "markdown",
      "metadata": {
        "id": "IjG1o-36yFIb"
      },
      "source": [
        "### Ejercicio:\n",
        "\n",
        "Saca por consola la pareja de Marcos"
      ]
    },
    {
      "cell_type": "code",
      "execution_count": null,
      "metadata": {
        "id": "7rTzx_DRyFIc",
        "outputId": "ea3db76d-f47f-4ca8-93c3-64bc307d4b51"
      },
      "outputs": [
        {
          "data": {
            "text/plain": [
              "'María'"
            ]
          },
          "execution_count": 127,
          "metadata": {},
          "output_type": "execute_result"
        }
      ],
      "source": [
        "pareja_de['Marcos']"
      ]
    },
    {
      "cell_type": "markdown",
      "metadata": {
        "id": "m0kqwzJbyFIc"
      },
      "source": [
        "### Ejercicio:\n",
        "\n",
        "Al final Marcos y María han roto, y ahora la nueva pareja de Marcos es Paula. Actualízadlo en el diccionario e imprime como queda ahora el diccionario."
      ]
    },
    {
      "cell_type": "code",
      "execution_count": null,
      "metadata": {
        "id": "__HrX8ckyFIc",
        "outputId": "55a211ef-fca9-4aa2-b5f8-ed94820abf2a"
      },
      "outputs": [
        {
          "data": {
            "text/plain": [
              "{'Juan': 'Marta', 'Marcos': 'Paula', 'Pedro': 'Sofía'}"
            ]
          },
          "execution_count": 128,
          "metadata": {},
          "output_type": "execute_result"
        }
      ],
      "source": [
        "pareja_de['Marcos'] = 'Paula'\n",
        "pareja_de"
      ]
    },
    {
      "cell_type": "markdown",
      "metadata": {
        "id": "LSeSp1ViyFIc"
      },
      "source": [
        "### Ejercicio:\n",
        "\n",
        "El grupo se ha puesto de parte de María, así que han echado a Marcos y a su nueva pareja. Sácalos del grupo e imprime cómo queda."
      ]
    },
    {
      "cell_type": "code",
      "execution_count": null,
      "metadata": {
        "id": "CVCk9jTryFIc",
        "outputId": "646eb9bb-e8db-4b33-d3c2-bb0724451883"
      },
      "outputs": [
        {
          "data": {
            "text/plain": [
              "{'Juan': 'Marta', 'Pedro': 'Sofía'}"
            ]
          },
          "execution_count": 129,
          "metadata": {},
          "output_type": "execute_result"
        }
      ],
      "source": [
        "del pareja_de['Marcos']\n",
        "pareja_de"
      ]
    },
    {
      "cell_type": "markdown",
      "metadata": {
        "id": "0kXqFBL0yFIc"
      },
      "source": [
        "### Ejercicio:\n",
        "\n",
        "Hay que actualizar la lista de chicos y chicas. Hazlo siguiendo estas instrucciones:\n",
        "\n",
        "1. Crea nuevas listas vacías de chicos y chicas\n",
        "2. Recorre el diccinario pareja_de con un for y mediante tuple unpacking separa cada item del diccionario en chico y chica\n",
        "3. Añade chico y chica a sus respectivas listas\n",
        "4. Saca por pantalla chicos y chicas"
      ]
    },
    {
      "cell_type": "code",
      "execution_count": null,
      "metadata": {
        "id": "4rkZToFzyFIc",
        "outputId": "91cd81a6-fdd4-4691-9f65-79707f1cf82d"
      },
      "outputs": [
        {
          "name": "stdout",
          "output_type": "stream",
          "text": [
            "['Juan', 'Pedro']\n",
            "['Marta', 'Sofía']\n"
          ]
        }
      ],
      "source": [
        "chicos = []\n",
        "chicas = []\n",
        "for chico,chica in pareja_de.items():\n",
        "    chicos.append(chico)\n",
        "    chicas.append(chica)\n",
        "print(chicos)\n",
        "print(chicas)"
      ]
    },
    {
      "cell_type": "markdown",
      "metadata": {
        "id": "iHd42S-HyFId"
      },
      "source": [
        "### Ejercicio:\n",
        "\n",
        "Extrae la palabra 'perro' del siguiente objeto."
      ]
    },
    {
      "cell_type": "code",
      "execution_count": null,
      "metadata": {
        "id": "uhL7ym7syFId"
      },
      "outputs": [],
      "source": [
        "obj = [1,2,{'nombre':'Manuel','ciudad':'Madrid','vive_con':[{'mujer': 'Julia','hijo':'Andres','mascotas':['gato','perro']},'ah y un hamster']},4,5]"
      ]
    },
    {
      "cell_type": "code",
      "execution_count": null,
      "metadata": {
        "id": "AOm15T3ZyFId",
        "outputId": "b6cdf9d4-df54-42b2-e411-eeb0389aa111"
      },
      "outputs": [
        {
          "data": {
            "text/plain": [
              "'perro'"
            ]
          },
          "execution_count": 132,
          "metadata": {},
          "output_type": "execute_result"
        }
      ],
      "source": [
        "obj[2]['vive_con'][0]['mascotas'][1]"
      ]
    },
    {
      "cell_type": "markdown",
      "metadata": {
        "id": "KAsKvtg7yFId"
      },
      "source": [
        "### Ejercicio:\n",
        "\n",
        "Crea una función que se llame imc para calcular el índice de masa corporal a partir de la estatura (en metros) y el peso (en kilos).\n",
        "\n",
        "La fórmula es IMC = peso (kg) / estatura (m) al cuadrado.\n",
        "\n",
        "Pruébala pasándole por ejemplo tus datos."
      ]
    },
    {
      "cell_type": "code",
      "execution_count": null,
      "metadata": {
        "id": "d8pn17KeyFId",
        "outputId": "8941ada8-e5a8-490c-cfda-a96a57e949f6"
      },
      "outputs": [
        {
          "data": {
            "text/plain": [
              "30.864197530864196"
            ]
          },
          "execution_count": 133,
          "metadata": {},
          "output_type": "execute_result"
        }
      ],
      "source": [
        "def imc(peso,estatura):\n",
        "    imc = peso / (estatura **2)\n",
        "    return(imc)\n",
        "\n",
        "imc(100,1.8)"
      ]
    },
    {
      "cell_type": "markdown",
      "metadata": {
        "id": "Wl8yXWg4yFId"
      },
      "source": [
        "### Ejercicio:\n",
        "\n",
        "Crea la misma función pero como una lambda que meta el dato en la variable resultado. Pruébala de nuevo."
      ]
    },
    {
      "cell_type": "code",
      "execution_count": null,
      "metadata": {
        "id": "kglifC29yFId",
        "outputId": "7794a926-466c-4526-a710-304b6e08720b"
      },
      "outputs": [
        {
          "data": {
            "text/plain": [
              "30.864197530864196"
            ]
          },
          "execution_count": 134,
          "metadata": {},
          "output_type": "execute_result"
        }
      ],
      "source": [
        "resultado = lambda peso,estatura: peso / (estatura **2)\n",
        "\n",
        "resultado(100,1.8)"
      ]
    },
    {
      "cell_type": "markdown",
      "metadata": {
        "id": "Um9ltKqHyFIe"
      },
      "source": [
        "### Ejercicio:\n",
        "\n",
        "Crea un pequeño programa que:\n",
        "\n",
        "1. Pregunte al usuario por su peso en kilos y su estatura en centímetros\n",
        "2. Llame a la función imc (acuérdate de transformar la estatura a metros)\n",
        "3. Si imc >25 aconseje al usuario un poco de dieta y ejercicio"
      ]
    },
    {
      "cell_type": "code",
      "execution_count": null,
      "metadata": {
        "id": "HXjk9s7iyFIe",
        "outputId": "2d21fef0-6448-4893-f29a-a047b69a748b"
      },
      "outputs": [
        {
          "name": "stdout",
          "output_type": "stream",
          "text": [
            "\n",
            " Introduce tu peso en kilos: 100\n",
            "\n",
            " Introduce tu estatura en centímetros: 180\n",
            "\n",
            " Umm, tu imc es de 30.86 quizá sería recomendable un poco de dieta y ejercicio\n"
          ]
        }
      ],
      "source": [
        "peso = int(input('\\n Introduce tu peso en kilos: '))\n",
        "estatura = int(input('\\n Introduce tu estatura en centímetros: '))\n",
        "estatura = estatura / 100\n",
        "\n",
        "resultado = imc(peso,estatura)\n",
        "if resultado > 25:\n",
        "    print('\\n Umm, tu imc es de %.2f quizá sería recomendable un poco de dieta y ejercicio'%resultado)\n",
        "else:\n",
        "    print('\\n Estás estupend@, sigue así')"
      ]
    },
    {
      "cell_type": "markdown",
      "metadata": {
        "id": "sBfonSejyFIe"
      },
      "source": [
        "### Ejercicio:\n",
        "\n",
        "Importa los módulos random y statistics y crea un programa que:\n",
        "\n",
        "Cree una lista vacía llamada imcs\n",
        "\n",
        "Repita 100 veces el siguiente proceso:\n",
        "\n",
        "    * Calcular aletoriamente un peso entre 50 y 100\n",
        "    * Calcular aletoriamente una estatura entre 150 y 200 y convertirla a metros\n",
        "    * Llamar a la función imc y añadir el resultado a la lista imcs\n",
        "   \n",
        "Usando funciones del paquete statistics imprima por pantalla la media y la desviación típica de la distribución final obtenida.\n",
        "\n",
        "Pista: puedes buscar las funciones que te ayuden a hacerlo en:\n",
        "\n",
        "https://www.w3schools.com/python/module_random.asp\n",
        "\n",
        "https://www.w3schools.com/python/ref_stat_mean.asp\n"
      ]
    },
    {
      "cell_type": "code",
      "execution_count": null,
      "metadata": {
        "id": "AarW7BdWyFIe",
        "outputId": "2c0da4c3-b2b0-4be6-ac3b-9c7cc9f30578"
      },
      "outputs": [
        {
          "name": "stdout",
          "output_type": "stream",
          "text": [
            "27.78832633918493\n",
            "9.122130266530384\n"
          ]
        }
      ],
      "source": [
        "import random\n",
        "import statistics\n",
        "\n",
        "imcs = []\n",
        "\n",
        "for cada in range(100):\n",
        "    peso = random.randint(50,100)\n",
        "    estatura = random.randint(150,200)\n",
        "    estatura = estatura / 100\n",
        "    resultado = imc(peso,estatura)\n",
        "    imcs.append(resultado)\n",
        "\n",
        "print(statistics.mean(imcs))\n",
        "print(statistics.stdev(imcs))"
      ]
    }
  ],
  "metadata": {
    "kernelspec": {
      "display_name": "Python 3",
      "language": "python",
      "name": "python3"
    },
    "language_info": {
      "codemirror_mode": {
        "name": "ipython",
        "version": 3
      },
      "file_extension": ".py",
      "mimetype": "text/x-python",
      "name": "python",
      "nbconvert_exporter": "python",
      "pygments_lexer": "ipython3",
      "version": "3.9.1"
    },
    "toc": {
      "base_numbering": 1,
      "nav_menu": {},
      "number_sections": true,
      "sideBar": true,
      "skip_h1_title": false,
      "title_cell": "Table of Contents",
      "title_sidebar": "Contents",
      "toc_cell": false,
      "toc_position": {},
      "toc_section_display": true,
      "toc_window_display": true
    },
    "varInspector": {
      "cols": {
        "lenName": 16,
        "lenType": 16,
        "lenVar": 40
      },
      "kernels_config": {
        "python": {
          "delete_cmd_postfix": "",
          "delete_cmd_prefix": "del ",
          "library": "var_list.py",
          "varRefreshCmd": "print(var_dic_list())"
        },
        "r": {
          "delete_cmd_postfix": ") ",
          "delete_cmd_prefix": "rm(",
          "library": "var_list.r",
          "varRefreshCmd": "cat(var_dic_list()) "
        }
      },
      "types_to_exclude": [
        "module",
        "function",
        "builtin_function_or_method",
        "instance",
        "_Feature"
      ],
      "window_display": false
    },
    "colab": {
      "provenance": [],
      "include_colab_link": true
    }
  },
  "nbformat": 4,
  "nbformat_minor": 0
}